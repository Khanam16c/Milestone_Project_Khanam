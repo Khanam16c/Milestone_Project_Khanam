{
 "cells": [
  {
   "cell_type": "markdown",
   "metadata": {},
   "source": [
    "# Day4"
   ]
  },
  {
   "cell_type": "code",
   "execution_count": 2,
   "metadata": {},
   "outputs": [],
   "source": [
    "import numpy as np\n",
    "import pandas as pd\n",
    "import matplotlib.pyplot as plt\n",
    "import seaborn as sns"
   ]
  },
  {
   "cell_type": "code",
   "execution_count": 3,
   "metadata": {},
   "outputs": [],
   "source": [
    "#Import comcast data into Python environment.\n",
    "df = pd.read_csv(\"Value_of_Energy_Cost_Savings_Program_Savings_for_Businesses_-_FY2020.csv\")"
   ]
  },
  {
   "cell_type": "code",
   "execution_count": 3,
   "metadata": {},
   "outputs": [
    {
     "data": {
      "text/plain": [
       "True"
      ]
     },
     "execution_count": 3,
     "metadata": {},
     "output_type": "execute_result"
    }
   ],
   "source": [
    "df.isnull().values.any()"
   ]
  },
  {
   "cell_type": "code",
   "execution_count": 4,
   "metadata": {},
   "outputs": [
    {
     "data": {
      "text/html": [
       "<div>\n",
       "<style scoped>\n",
       "    .dataframe tbody tr th:only-of-type {\n",
       "        vertical-align: middle;\n",
       "    }\n",
       "\n",
       "    .dataframe tbody tr th {\n",
       "        vertical-align: top;\n",
       "    }\n",
       "\n",
       "    .dataframe thead th {\n",
       "        text-align: right;\n",
       "    }\n",
       "</style>\n",
       "<table border=\"1\" class=\"dataframe\">\n",
       "  <thead>\n",
       "    <tr style=\"text-align: right;\">\n",
       "      <th></th>\n",
       "      <th>Company Name</th>\n",
       "      <th>company contact</th>\n",
       "      <th>company email</th>\n",
       "      <th>company phone</th>\n",
       "      <th>Address</th>\n",
       "      <th>City</th>\n",
       "      <th>State</th>\n",
       "      <th>Postcode</th>\n",
       "      <th>Industry</th>\n",
       "      <th>Industry descr</th>\n",
       "      <th>...</th>\n",
       "      <th>Savings from beginning receiving benefits</th>\n",
       "      <th>Borough</th>\n",
       "      <th>Latitude</th>\n",
       "      <th>Longitude</th>\n",
       "      <th>Community Board</th>\n",
       "      <th>Council District</th>\n",
       "      <th>Census Tract</th>\n",
       "      <th>BIN</th>\n",
       "      <th>BBL</th>\n",
       "      <th>NTA</th>\n",
       "    </tr>\n",
       "  </thead>\n",
       "  <tbody>\n",
       "    <tr>\n",
       "      <th>0</th>\n",
       "      <td>1 State Street</td>\n",
       "      <td>David Neiburg</td>\n",
       "      <td>eskoblo@energyspec.com</td>\n",
       "      <td>7186779077</td>\n",
       "      <td>1114 Avenue J</td>\n",
       "      <td>Brooklyn</td>\n",
       "      <td>NY</td>\n",
       "      <td>11230</td>\n",
       "      <td>Commercial</td>\n",
       "      <td>35 story building</td>\n",
       "      <td>...</td>\n",
       "      <td>349.78</td>\n",
       "      <td>Brooklyn</td>\n",
       "      <td>40.624784</td>\n",
       "      <td>-73.964920</td>\n",
       "      <td>314.0</td>\n",
       "      <td>44.0</td>\n",
       "      <td>534.0</td>\n",
       "      <td>3179818.0</td>\n",
       "      <td>3.067130e+09</td>\n",
       "      <td>Midwood</td>\n",
       "    </tr>\n",
       "    <tr>\n",
       "      <th>1</th>\n",
       "      <td>100 Church LLC</td>\n",
       "      <td>Edward A. Carroll</td>\n",
       "      <td>NaN</td>\n",
       "      <td>2125663000</td>\n",
       "      <td>100 Church Street</td>\n",
       "      <td>NY</td>\n",
       "      <td>NY</td>\n",
       "      <td>10007</td>\n",
       "      <td>Commercial</td>\n",
       "      <td>21 Floors</td>\n",
       "      <td>...</td>\n",
       "      <td>4423698.05</td>\n",
       "      <td>New York</td>\n",
       "      <td>40.712968</td>\n",
       "      <td>-74.009490</td>\n",
       "      <td>101.0</td>\n",
       "      <td>1.0</td>\n",
       "      <td>21.0</td>\n",
       "      <td>1001409.0</td>\n",
       "      <td>1.001250e+09</td>\n",
       "      <td>SoHo-TriBeCa-Civic Center-Little Italy</td>\n",
       "    </tr>\n",
       "    <tr>\n",
       "      <th>2</th>\n",
       "      <td>100 Wall Investments</td>\n",
       "      <td>Jerry Branam</td>\n",
       "      <td>NaN</td>\n",
       "      <td>2122487160</td>\n",
       "      <td>96 Wall Street</td>\n",
       "      <td>New York</td>\n",
       "      <td>NY</td>\n",
       "      <td>10005</td>\n",
       "      <td>Landlord</td>\n",
       "      <td>NaN</td>\n",
       "      <td>...</td>\n",
       "      <td>1814542.62</td>\n",
       "      <td>New York</td>\n",
       "      <td>40.705052</td>\n",
       "      <td>-74.007199</td>\n",
       "      <td>101.0</td>\n",
       "      <td>1.0</td>\n",
       "      <td>7.0</td>\n",
       "      <td>1000875.0</td>\n",
       "      <td>1.000380e+09</td>\n",
       "      <td>Battery Park City-Lower Manhattan</td>\n",
       "    </tr>\n",
       "    <tr>\n",
       "      <th>3</th>\n",
       "      <td>1-10 Bush Terminal Owner LP</td>\n",
       "      <td>Andrew Kimball</td>\n",
       "      <td>akimball@industrycity.com</td>\n",
       "      <td>3474178429</td>\n",
       "      <td>220 36th St, Suite 2A</td>\n",
       "      <td>Brooklyn</td>\n",
       "      <td>NY</td>\n",
       "      <td>11232</td>\n",
       "      <td>Landlord</td>\n",
       "      <td>Special Eligible Premises for eligible businesses</td>\n",
       "      <td>...</td>\n",
       "      <td>6755.31</td>\n",
       "      <td>Brooklyn</td>\n",
       "      <td>40.656061</td>\n",
       "      <td>-74.007334</td>\n",
       "      <td>307.0</td>\n",
       "      <td>38.0</td>\n",
       "      <td>2.0</td>\n",
       "      <td>3398687.0</td>\n",
       "      <td>3.006950e+09</td>\n",
       "      <td>Sunset Park West</td>\n",
       "    </tr>\n",
       "    <tr>\n",
       "      <th>4</th>\n",
       "      <td>120 Broadway Acquisitions JV, LLC (Ldmk)</td>\n",
       "      <td>Carl Letich</td>\n",
       "      <td>clettich@silvprop.com</td>\n",
       "      <td>2124064020</td>\n",
       "      <td>120 Broadway</td>\n",
       "      <td>New York</td>\n",
       "      <td>NY</td>\n",
       "      <td>10271</td>\n",
       "      <td>Commercial</td>\n",
       "      <td>NaN</td>\n",
       "      <td>...</td>\n",
       "      <td>3293055.08</td>\n",
       "      <td>New York</td>\n",
       "      <td>40.708546</td>\n",
       "      <td>-74.011041</td>\n",
       "      <td>101.0</td>\n",
       "      <td>1.0</td>\n",
       "      <td>7.0</td>\n",
       "      <td>1001026.0</td>\n",
       "      <td>1.000478e+09</td>\n",
       "      <td>Battery Park City-Lower Manhattan</td>\n",
       "    </tr>\n",
       "    <tr>\n",
       "      <th>...</th>\n",
       "      <td>...</td>\n",
       "      <td>...</td>\n",
       "      <td>...</td>\n",
       "      <td>...</td>\n",
       "      <td>...</td>\n",
       "      <td>...</td>\n",
       "      <td>...</td>\n",
       "      <td>...</td>\n",
       "      <td>...</td>\n",
       "      <td>...</td>\n",
       "      <td>...</td>\n",
       "      <td>...</td>\n",
       "      <td>...</td>\n",
       "      <td>...</td>\n",
       "      <td>...</td>\n",
       "      <td>...</td>\n",
       "      <td>...</td>\n",
       "      <td>...</td>\n",
       "      <td>...</td>\n",
       "      <td>...</td>\n",
       "      <td>...</td>\n",
       "    </tr>\n",
       "    <tr>\n",
       "      <th>445</th>\n",
       "      <td>WONTON FOOD, INC.</td>\n",
       "      <td>DONALD LAU</td>\n",
       "      <td>donaldlau@wontonfood.com</td>\n",
       "      <td>7186286868</td>\n",
       "      <td>220-222  MOORE STREET</td>\n",
       "      <td>Brooklyn</td>\n",
       "      <td>NY</td>\n",
       "      <td>11206</td>\n",
       "      <td>Manufacturing</td>\n",
       "      <td>MFG. PASTA, EGGROLL SKINS</td>\n",
       "      <td>...</td>\n",
       "      <td>965843.58</td>\n",
       "      <td>Brooklyn</td>\n",
       "      <td>40.704425</td>\n",
       "      <td>-73.936010</td>\n",
       "      <td>301.0</td>\n",
       "      <td>34.0</td>\n",
       "      <td>485.0</td>\n",
       "      <td>3071539.0</td>\n",
       "      <td>3.031090e+09</td>\n",
       "      <td>Bushwick South</td>\n",
       "    </tr>\n",
       "    <tr>\n",
       "      <th>446</th>\n",
       "      <td>Wood Works</td>\n",
       "      <td>Gordon Brawm</td>\n",
       "      <td>brawnworks@gmail.com</td>\n",
       "      <td>9179404950</td>\n",
       "      <td>162 Cook Street</td>\n",
       "      <td>Brooklyn</td>\n",
       "      <td>NY</td>\n",
       "      <td>11206</td>\n",
       "      <td>Manufacturing</td>\n",
       "      <td>Installer of wood furniture</td>\n",
       "      <td>...</td>\n",
       "      <td>3585.40</td>\n",
       "      <td>Brooklyn</td>\n",
       "      <td>40.702869</td>\n",
       "      <td>-73.936466</td>\n",
       "      <td>301.0</td>\n",
       "      <td>34.0</td>\n",
       "      <td>485.0</td>\n",
       "      <td>3071625.0</td>\n",
       "      <td>3.031230e+09</td>\n",
       "      <td>Bushwick South</td>\n",
       "    </tr>\n",
       "    <tr>\n",
       "      <th>447</th>\n",
       "      <td>WorldWide Plumbing Supply, Inc.</td>\n",
       "      <td>Surie Lefkowitz</td>\n",
       "      <td>sheidya@wwps.com</td>\n",
       "      <td>7188533002</td>\n",
       "      <td>125 Lake Avenue</td>\n",
       "      <td>Staten Island</td>\n",
       "      <td>NY</td>\n",
       "      <td>10303</td>\n",
       "      <td>Manufacturing</td>\n",
       "      <td>Plumbing Fixtures, Parts &amp; Supplies, Plumbers</td>\n",
       "      <td>...</td>\n",
       "      <td>20487.73</td>\n",
       "      <td>Staten Island</td>\n",
       "      <td>40.633518</td>\n",
       "      <td>-74.150942</td>\n",
       "      <td>501.0</td>\n",
       "      <td>49.0</td>\n",
       "      <td>239.0</td>\n",
       "      <td>5107122.0</td>\n",
       "      <td>5.011610e+09</td>\n",
       "      <td>Mariner's Harbor-Arlington-Port Ivory-Granitev...</td>\n",
       "    </tr>\n",
       "    <tr>\n",
       "      <th>448</th>\n",
       "      <td>WUD Furniture LLC</td>\n",
       "      <td>Keren Springer</td>\n",
       "      <td>keren@wudfurniture.com</td>\n",
       "      <td>7184867952</td>\n",
       "      <td>1102 Atlantic Avenue</td>\n",
       "      <td>Brooklyn</td>\n",
       "      <td>NY</td>\n",
       "      <td>11238</td>\n",
       "      <td>Manufacturing</td>\n",
       "      <td>We make handcrafted furniture, surfaces, lighting</td>\n",
       "      <td>...</td>\n",
       "      <td>12287.32</td>\n",
       "      <td>Brooklyn</td>\n",
       "      <td>40.679518</td>\n",
       "      <td>-73.956819</td>\n",
       "      <td>308.0</td>\n",
       "      <td>35.0</td>\n",
       "      <td>305.0</td>\n",
       "      <td>3027572.0</td>\n",
       "      <td>3.011260e+09</td>\n",
       "      <td>Crown Heights North</td>\n",
       "    </tr>\n",
       "    <tr>\n",
       "      <th>449</th>\n",
       "      <td>Wurtec Incorporated</td>\n",
       "      <td>Bill Popp</td>\n",
       "      <td>bill.popp@wurtec.com</td>\n",
       "      <td>4197261066</td>\n",
       "      <td>31-50 31st Street</td>\n",
       "      <td>Lond Island City</td>\n",
       "      <td>NY</td>\n",
       "      <td>11106</td>\n",
       "      <td>Wholesale/Warehouse/Distribution</td>\n",
       "      <td>Elevator  tooling products</td>\n",
       "      <td>...</td>\n",
       "      <td>0.00</td>\n",
       "      <td>Queens</td>\n",
       "      <td>40.763148</td>\n",
       "      <td>-73.924442</td>\n",
       "      <td>401.0</td>\n",
       "      <td>22.0</td>\n",
       "      <td>61.0</td>\n",
       "      <td>4007562.0</td>\n",
       "      <td>4.005890e+09</td>\n",
       "      <td>Astoria</td>\n",
       "    </tr>\n",
       "  </tbody>\n",
       "</table>\n",
       "<p>450 rows × 26 columns</p>\n",
       "</div>"
      ],
      "text/plain": [
       "                                 Company Name    company contact  \\\n",
       "0                              1 State Street      David Neiburg   \n",
       "1                              100 Church LLC  Edward A. Carroll   \n",
       "2                        100 Wall Investments       Jerry Branam   \n",
       "3                 1-10 Bush Terminal Owner LP     Andrew Kimball   \n",
       "4    120 Broadway Acquisitions JV, LLC (Ldmk)        Carl Letich   \n",
       "..                                        ...                ...   \n",
       "445                         WONTON FOOD, INC.         DONALD LAU   \n",
       "446                                Wood Works       Gordon Brawm   \n",
       "447           WorldWide Plumbing Supply, Inc.    Surie Lefkowitz   \n",
       "448                         WUD Furniture LLC     Keren Springer   \n",
       "449                       Wurtec Incorporated          Bill Popp   \n",
       "\n",
       "                 company email company phone                Address  \\\n",
       "0       eskoblo@energyspec.com    7186779077          1114 Avenue J   \n",
       "1                          NaN    2125663000      100 Church Street   \n",
       "2                          NaN    2122487160         96 Wall Street   \n",
       "3    akimball@industrycity.com    3474178429  220 36th St, Suite 2A   \n",
       "4        clettich@silvprop.com    2124064020           120 Broadway   \n",
       "..                         ...           ...                    ...   \n",
       "445   donaldlau@wontonfood.com    7186286868  220-222  MOORE STREET   \n",
       "446       brawnworks@gmail.com    9179404950        162 Cook Street   \n",
       "447           sheidya@wwps.com    7188533002        125 Lake Avenue   \n",
       "448     keren@wudfurniture.com    7184867952   1102 Atlantic Avenue   \n",
       "449       bill.popp@wurtec.com    4197261066      31-50 31st Street   \n",
       "\n",
       "                 City State  Postcode                          Industry  \\\n",
       "0            Brooklyn    NY     11230                        Commercial   \n",
       "1                  NY    NY     10007                        Commercial   \n",
       "2            New York    NY     10005                          Landlord   \n",
       "3            Brooklyn    NY     11232                          Landlord   \n",
       "4            New York    NY     10271                        Commercial   \n",
       "..                ...   ...       ...                               ...   \n",
       "445          Brooklyn    NY     11206                     Manufacturing   \n",
       "446          Brooklyn    NY     11206                     Manufacturing   \n",
       "447     Staten Island    NY     10303                     Manufacturing   \n",
       "448          Brooklyn    NY     11238                     Manufacturing   \n",
       "449  Lond Island City    NY     11106  Wholesale/Warehouse/Distribution   \n",
       "\n",
       "                                        Industry descr  ...  \\\n",
       "0                                    35 story building  ...   \n",
       "1                                            21 Floors  ...   \n",
       "2                                                  NaN  ...   \n",
       "3    Special Eligible Premises for eligible businesses  ...   \n",
       "4                                                  NaN  ...   \n",
       "..                                                 ...  ...   \n",
       "445                          MFG. PASTA, EGGROLL SKINS  ...   \n",
       "446                        Installer of wood furniture  ...   \n",
       "447      Plumbing Fixtures, Parts & Supplies, Plumbers  ...   \n",
       "448  We make handcrafted furniture, surfaces, lighting  ...   \n",
       "449                         Elevator  tooling products  ...   \n",
       "\n",
       "    Savings from beginning receiving benefits        Borough   Latitude  \\\n",
       "0                                      349.78       Brooklyn  40.624784   \n",
       "1                                  4423698.05       New York  40.712968   \n",
       "2                                  1814542.62       New York  40.705052   \n",
       "3                                     6755.31       Brooklyn  40.656061   \n",
       "4                                  3293055.08       New York  40.708546   \n",
       "..                                        ...            ...        ...   \n",
       "445                                 965843.58       Brooklyn  40.704425   \n",
       "446                                   3585.40       Brooklyn  40.702869   \n",
       "447                                  20487.73  Staten Island  40.633518   \n",
       "448                                  12287.32       Brooklyn  40.679518   \n",
       "449                                      0.00         Queens  40.763148   \n",
       "\n",
       "     Longitude Community Board  Council District  Census Tract        BIN  \\\n",
       "0   -73.964920           314.0              44.0         534.0  3179818.0   \n",
       "1   -74.009490           101.0               1.0          21.0  1001409.0   \n",
       "2   -74.007199           101.0               1.0           7.0  1000875.0   \n",
       "3   -74.007334           307.0              38.0           2.0  3398687.0   \n",
       "4   -74.011041           101.0               1.0           7.0  1001026.0   \n",
       "..         ...             ...               ...           ...        ...   \n",
       "445 -73.936010           301.0              34.0         485.0  3071539.0   \n",
       "446 -73.936466           301.0              34.0         485.0  3071625.0   \n",
       "447 -74.150942           501.0              49.0         239.0  5107122.0   \n",
       "448 -73.956819           308.0              35.0         305.0  3027572.0   \n",
       "449 -73.924442           401.0              22.0          61.0  4007562.0   \n",
       "\n",
       "              BBL                                                NTA  \n",
       "0    3.067130e+09                                            Midwood  \n",
       "1    1.001250e+09             SoHo-TriBeCa-Civic Center-Little Italy  \n",
       "2    1.000380e+09                  Battery Park City-Lower Manhattan  \n",
       "3    3.006950e+09                                   Sunset Park West  \n",
       "4    1.000478e+09                  Battery Park City-Lower Manhattan  \n",
       "..            ...                                                ...  \n",
       "445  3.031090e+09                                     Bushwick South  \n",
       "446  3.031230e+09                                     Bushwick South  \n",
       "447  5.011610e+09  Mariner's Harbor-Arlington-Port Ivory-Granitev...  \n",
       "448  3.011260e+09                                Crown Heights North  \n",
       "449  4.005890e+09                                            Astoria  \n",
       "\n",
       "[450 rows x 26 columns]"
      ]
     },
     "execution_count": 4,
     "metadata": {},
     "output_type": "execute_result"
    }
   ],
   "source": [
    "df"
   ]
  },
  {
   "cell_type": "markdown",
   "metadata": {},
   "source": [
    "# Quesion 1:How many different companies are represented in the data set?"
   ]
  },
  {
   "cell_type": "code",
   "execution_count": 4,
   "metadata": {},
   "outputs": [
    {
     "name": "stdout",
     "output_type": "stream",
     "text": [
      "439\n"
     ]
    }
   ],
   "source": [
    "print(df[\"Company Name\"].nunique())"
   ]
  },
  {
   "cell_type": "code",
   "execution_count": 5,
   "metadata": {},
   "outputs": [],
   "source": [
    "# Answer 439 different companies are represented in the data set"
   ]
  },
  {
   "cell_type": "markdown",
   "metadata": {},
   "source": [
    "# Quesion 2:What is the total number of jobs created for businesses in Queens?"
   ]
  },
  {
   "cell_type": "code",
   "execution_count": 6,
   "metadata": {},
   "outputs": [
    {
     "data": {
      "text/plain": [
       "73"
      ]
     },
     "execution_count": 6,
     "metadata": {},
     "output_type": "execute_result"
    }
   ],
   "source": [
    "df['City'].str.contains('Queens',case=False).sum()"
   ]
  },
  {
   "cell_type": "code",
   "execution_count": 7,
   "metadata": {},
   "outputs": [],
   "source": [
    "# Answer: 73 total number of jobs created for businesses in Queens."
   ]
  },
  {
   "cell_type": "markdown",
   "metadata": {},
   "source": [
    "# Question 3: How many different unique email domains names are there in the data set?"
   ]
  },
  {
   "cell_type": "code",
   "execution_count": 8,
   "metadata": {},
   "outputs": [],
   "source": [
    "df['domain'] = df['company email'].str.split('@').str[1]"
   ]
  },
  {
   "cell_type": "code",
   "execution_count": 9,
   "metadata": {},
   "outputs": [
    {
     "data": {
      "text/plain": [
       "gmail.com               30\n",
       "aol.com                 22\n",
       "energyspec.com           3\n",
       "silvercupstudios.com     3\n",
       "yahoo.com                3\n",
       "                        ..\n",
       "nyfusa.com               1\n",
       "evergreene.com           1\n",
       "storagedeluxe.com        1\n",
       "jcrew.com                1\n",
       "approvedoil.com          1\n",
       "Name: domain, Length: 356, dtype: int64"
      ]
     },
     "execution_count": 9,
     "metadata": {},
     "output_type": "execute_result"
    }
   ],
   "source": [
    "df['domain'].value_counts()"
   ]
  },
  {
   "cell_type": "code",
   "execution_count": 10,
   "metadata": {},
   "outputs": [
    {
     "data": {
      "text/plain": [
       "356"
      ]
     },
     "execution_count": 10,
     "metadata": {},
     "output_type": "execute_result"
    }
   ],
   "source": [
    "df['domain'].nunique()"
   ]
  },
  {
   "cell_type": "code",
   "execution_count": 11,
   "metadata": {},
   "outputs": [],
   "source": [
    "# Answer: 356 different unique email domains names are there in the data set."
   ]
  },
  {
   "cell_type": "markdown",
   "metadata": {},
   "source": [
    "# Qustion 4 and 5: Considering only NTAs with at least 5 listed businesses, what is the average total savings and the total jobs created for each NTA? Save your result for the previous question as a CSV file."
   ]
  },
  {
   "cell_type": "code",
   "execution_count": 21,
   "metadata": {},
   "outputs": [
    {
     "data": {
      "text/html": [
       "<div>\n",
       "<style scoped>\n",
       "    .dataframe tbody tr th:only-of-type {\n",
       "        vertical-align: middle;\n",
       "    }\n",
       "\n",
       "    .dataframe tbody tr th {\n",
       "        vertical-align: top;\n",
       "    }\n",
       "\n",
       "    .dataframe thead th {\n",
       "        text-align: right;\n",
       "    }\n",
       "</style>\n",
       "<table border=\"1\" class=\"dataframe\">\n",
       "  <thead>\n",
       "    <tr style=\"text-align: right;\">\n",
       "      <th></th>\n",
       "      <th>NTA</th>\n",
       "      <th>Job created</th>\n",
       "      <th>Total Savings</th>\n",
       "    </tr>\n",
       "  </thead>\n",
       "  <tbody>\n",
       "    <tr>\n",
       "      <th>0</th>\n",
       "      <td>Midwood</td>\n",
       "      <td>NaN</td>\n",
       "      <td>0.00</td>\n",
       "    </tr>\n",
       "    <tr>\n",
       "      <th>1</th>\n",
       "      <td>SoHo-TriBeCa-Civic Center-Little Italy</td>\n",
       "      <td>NaN</td>\n",
       "      <td>136578.20</td>\n",
       "    </tr>\n",
       "    <tr>\n",
       "      <th>2</th>\n",
       "      <td>Battery Park City-Lower Manhattan</td>\n",
       "      <td>NaN</td>\n",
       "      <td>302959.40</td>\n",
       "    </tr>\n",
       "    <tr>\n",
       "      <th>3</th>\n",
       "      <td>Sunset Park West</td>\n",
       "      <td>NaN</td>\n",
       "      <td>2159.67</td>\n",
       "    </tr>\n",
       "    <tr>\n",
       "      <th>4</th>\n",
       "      <td>Battery Park City-Lower Manhattan</td>\n",
       "      <td>NaN</td>\n",
       "      <td>922407.32</td>\n",
       "    </tr>\n",
       "    <tr>\n",
       "      <th>...</th>\n",
       "      <td>...</td>\n",
       "      <td>...</td>\n",
       "      <td>...</td>\n",
       "    </tr>\n",
       "    <tr>\n",
       "      <th>445</th>\n",
       "      <td>Bushwick South</td>\n",
       "      <td>10.0</td>\n",
       "      <td>35384.76</td>\n",
       "    </tr>\n",
       "    <tr>\n",
       "      <th>446</th>\n",
       "      <td>Bushwick South</td>\n",
       "      <td>NaN</td>\n",
       "      <td>1457.26</td>\n",
       "    </tr>\n",
       "    <tr>\n",
       "      <th>447</th>\n",
       "      <td>Mariner's Harbor-Arlington-Port Ivory-Granitev...</td>\n",
       "      <td>NaN</td>\n",
       "      <td>8971.02</td>\n",
       "    </tr>\n",
       "    <tr>\n",
       "      <th>448</th>\n",
       "      <td>Crown Heights North</td>\n",
       "      <td>NaN</td>\n",
       "      <td>2484.84</td>\n",
       "    </tr>\n",
       "    <tr>\n",
       "      <th>449</th>\n",
       "      <td>Astoria</td>\n",
       "      <td>NaN</td>\n",
       "      <td>0.00</td>\n",
       "    </tr>\n",
       "  </tbody>\n",
       "</table>\n",
       "<p>450 rows × 3 columns</p>\n",
       "</div>"
      ],
      "text/plain": [
       "                                                   NTA  Job created  \\\n",
       "0                                              Midwood          NaN   \n",
       "1               SoHo-TriBeCa-Civic Center-Little Italy          NaN   \n",
       "2                    Battery Park City-Lower Manhattan          NaN   \n",
       "3                                     Sunset Park West          NaN   \n",
       "4                    Battery Park City-Lower Manhattan          NaN   \n",
       "..                                                 ...          ...   \n",
       "445                                     Bushwick South         10.0   \n",
       "446                                     Bushwick South          NaN   \n",
       "447  Mariner's Harbor-Arlington-Port Ivory-Granitev...          NaN   \n",
       "448                                Crown Heights North          NaN   \n",
       "449                                            Astoria          NaN   \n",
       "\n",
       "     Total Savings  \n",
       "0             0.00  \n",
       "1        136578.20  \n",
       "2        302959.40  \n",
       "3          2159.67  \n",
       "4        922407.32  \n",
       "..             ...  \n",
       "445       35384.76  \n",
       "446        1457.26  \n",
       "447        8971.02  \n",
       "448        2484.84  \n",
       "449           0.00  \n",
       "\n",
       "[450 rows x 3 columns]"
      ]
     },
     "execution_count": 21,
     "metadata": {},
     "output_type": "execute_result"
    }
   ],
   "source": [
    "df_new = df[['NTA', 'Job created', 'Total Savings']]\n",
    "df_new "
   ]
  },
  {
   "cell_type": "code",
   "execution_count": 22,
   "metadata": {},
   "outputs": [
    {
     "data": {
      "text/html": [
       "<div>\n",
       "<style scoped>\n",
       "    .dataframe tbody tr th:only-of-type {\n",
       "        vertical-align: middle;\n",
       "    }\n",
       "\n",
       "    .dataframe tbody tr th {\n",
       "        vertical-align: top;\n",
       "    }\n",
       "\n",
       "    .dataframe thead th {\n",
       "        text-align: right;\n",
       "    }\n",
       "</style>\n",
       "<table border=\"1\" class=\"dataframe\">\n",
       "  <thead>\n",
       "    <tr style=\"text-align: right;\">\n",
       "      <th></th>\n",
       "      <th>Total_Job_created</th>\n",
       "    </tr>\n",
       "    <tr>\n",
       "      <th>NTA</th>\n",
       "      <th></th>\n",
       "    </tr>\n",
       "  </thead>\n",
       "  <tbody>\n",
       "    <tr>\n",
       "      <th>Astoria</th>\n",
       "      <td>0.0</td>\n",
       "    </tr>\n",
       "    <tr>\n",
       "      <th>Baisley Park</th>\n",
       "      <td>0.0</td>\n",
       "    </tr>\n",
       "    <tr>\n",
       "      <th>Battery Park City-Lower Manhattan</th>\n",
       "      <td>0.0</td>\n",
       "    </tr>\n",
       "    <tr>\n",
       "      <th>Bedford</th>\n",
       "      <td>0.0</td>\n",
       "    </tr>\n",
       "    <tr>\n",
       "      <th>Bensonhurst West</th>\n",
       "      <td>0.0</td>\n",
       "    </tr>\n",
       "    <tr>\n",
       "      <th>...</th>\n",
       "      <td>...</td>\n",
       "    </tr>\n",
       "    <tr>\n",
       "      <th>Whitestone</th>\n",
       "      <td>10.0</td>\n",
       "    </tr>\n",
       "    <tr>\n",
       "      <th>Williamsburg</th>\n",
       "      <td>0.0</td>\n",
       "    </tr>\n",
       "    <tr>\n",
       "      <th>Windsor Terrace</th>\n",
       "      <td>0.0</td>\n",
       "    </tr>\n",
       "    <tr>\n",
       "      <th>Woodside</th>\n",
       "      <td>0.0</td>\n",
       "    </tr>\n",
       "    <tr>\n",
       "      <th>park-cemetery-etc-Brooklyn</th>\n",
       "      <td>0.0</td>\n",
       "    </tr>\n",
       "  </tbody>\n",
       "</table>\n",
       "<p>79 rows × 1 columns</p>\n",
       "</div>"
      ],
      "text/plain": [
       "                                   Total_Job_created\n",
       "NTA                                                 \n",
       "Astoria                                          0.0\n",
       "Baisley Park                                     0.0\n",
       "Battery Park City-Lower Manhattan                0.0\n",
       "Bedford                                          0.0\n",
       "Bensonhurst West                                 0.0\n",
       "...                                              ...\n",
       "Whitestone                                      10.0\n",
       "Williamsburg                                     0.0\n",
       "Windsor Terrace                                  0.0\n",
       "Woodside                                         0.0\n",
       "park-cemetery-etc-Brooklyn                       0.0\n",
       "\n",
       "[79 rows x 1 columns]"
      ]
     },
     "execution_count": 22,
     "metadata": {},
     "output_type": "execute_result"
    }
   ],
   "source": [
    "Total_Job_created=df_new .groupby(by='NTA')['Job created'].sum().to_frame()\n",
    "\n",
    "pd.set_option('display.max_columns', None)\n",
    "Total_Job_created\n",
    "df1 = Total_Job_created.rename({'Job created': 'Total_Job_created'}, axis=1)\n",
    "df1"
   ]
  },
  {
   "cell_type": "code",
   "execution_count": 23,
   "metadata": {},
   "outputs": [
    {
     "data": {
      "text/html": [
       "<div>\n",
       "<style scoped>\n",
       "    .dataframe tbody tr th:only-of-type {\n",
       "        vertical-align: middle;\n",
       "    }\n",
       "\n",
       "    .dataframe tbody tr th {\n",
       "        vertical-align: top;\n",
       "    }\n",
       "\n",
       "    .dataframe thead th {\n",
       "        text-align: right;\n",
       "    }\n",
       "</style>\n",
       "<table border=\"1\" class=\"dataframe\">\n",
       "  <thead>\n",
       "    <tr style=\"text-align: right;\">\n",
       "      <th></th>\n",
       "      <th>Avg_saving</th>\n",
       "    </tr>\n",
       "    <tr>\n",
       "      <th>NTA</th>\n",
       "      <th></th>\n",
       "    </tr>\n",
       "  </thead>\n",
       "  <tbody>\n",
       "    <tr>\n",
       "      <th>Astoria</th>\n",
       "      <td>11409.986667</td>\n",
       "    </tr>\n",
       "    <tr>\n",
       "      <th>Baisley Park</th>\n",
       "      <td>21522.740000</td>\n",
       "    </tr>\n",
       "    <tr>\n",
       "      <th>Battery Park City-Lower Manhattan</th>\n",
       "      <td>469890.796667</td>\n",
       "    </tr>\n",
       "    <tr>\n",
       "      <th>Bedford</th>\n",
       "      <td>62113.343333</td>\n",
       "    </tr>\n",
       "    <tr>\n",
       "      <th>Bensonhurst West</th>\n",
       "      <td>-379.470000</td>\n",
       "    </tr>\n",
       "    <tr>\n",
       "      <th>...</th>\n",
       "      <td>...</td>\n",
       "    </tr>\n",
       "    <tr>\n",
       "      <th>Whitestone</th>\n",
       "      <td>62038.306667</td>\n",
       "    </tr>\n",
       "    <tr>\n",
       "      <th>Williamsburg</th>\n",
       "      <td>23570.080000</td>\n",
       "    </tr>\n",
       "    <tr>\n",
       "      <th>Windsor Terrace</th>\n",
       "      <td>78573.320000</td>\n",
       "    </tr>\n",
       "    <tr>\n",
       "      <th>Woodside</th>\n",
       "      <td>5625.736667</td>\n",
       "    </tr>\n",
       "    <tr>\n",
       "      <th>park-cemetery-etc-Brooklyn</th>\n",
       "      <td>14327.419333</td>\n",
       "    </tr>\n",
       "  </tbody>\n",
       "</table>\n",
       "<p>79 rows × 1 columns</p>\n",
       "</div>"
      ],
      "text/plain": [
       "                                      Avg_saving\n",
       "NTA                                             \n",
       "Astoria                             11409.986667\n",
       "Baisley Park                        21522.740000\n",
       "Battery Park City-Lower Manhattan  469890.796667\n",
       "Bedford                             62113.343333\n",
       "Bensonhurst West                     -379.470000\n",
       "...                                          ...\n",
       "Whitestone                          62038.306667\n",
       "Williamsburg                        23570.080000\n",
       "Windsor Terrace                     78573.320000\n",
       "Woodside                             5625.736667\n",
       "park-cemetery-etc-Brooklyn          14327.419333\n",
       "\n",
       "[79 rows x 1 columns]"
      ]
     },
     "execution_count": 23,
     "metadata": {},
     "output_type": "execute_result"
    }
   ],
   "source": [
    "Avg_total_saving=df_new .groupby(by='NTA')['Total Savings'].mean().to_frame()\n",
    "#Avg_total_saving=Avg_total_saving.to_frame()\n",
    "Avg_total_saving\n",
    "df2 = Avg_total_saving.rename({'Total Savings': 'Avg_saving'}, axis=1)\n",
    "df2"
   ]
  },
  {
   "cell_type": "code",
   "execution_count": 38,
   "metadata": {},
   "outputs": [],
   "source": [
    "Avg=df1.merge(df2, how = \"right\" ,on ='NTA')\n",
    "Avg=Avg.loc[~(Avg['Total_Job_created']==0)]"
   ]
  },
  {
   "cell_type": "code",
   "execution_count": 39,
   "metadata": {},
   "outputs": [],
   "source": [
    "Avg.to_csv('Average_Job_and_saving.csv', index=True)"
   ]
  },
  {
   "cell_type": "code",
   "execution_count": 43,
   "metadata": {},
   "outputs": [
    {
     "data": {
      "text/html": [
       "<div>\n",
       "<style scoped>\n",
       "    .dataframe tbody tr th:only-of-type {\n",
       "        vertical-align: middle;\n",
       "    }\n",
       "\n",
       "    .dataframe tbody tr th {\n",
       "        vertical-align: top;\n",
       "    }\n",
       "\n",
       "    .dataframe thead th {\n",
       "        text-align: right;\n",
       "    }\n",
       "</style>\n",
       "<table border=\"1\" class=\"dataframe\">\n",
       "  <thead>\n",
       "    <tr style=\"text-align: right;\">\n",
       "      <th></th>\n",
       "      <th>Total_Job_created</th>\n",
       "      <th>Avg_saving</th>\n",
       "    </tr>\n",
       "    <tr>\n",
       "      <th>NTA</th>\n",
       "      <th></th>\n",
       "      <th></th>\n",
       "    </tr>\n",
       "  </thead>\n",
       "  <tbody>\n",
       "    <tr>\n",
       "      <th>Bushwick South</th>\n",
       "      <td>10.0</td>\n",
       "      <td>26140.455000</td>\n",
       "    </tr>\n",
       "    <tr>\n",
       "      <th>College Point</th>\n",
       "      <td>2.0</td>\n",
       "      <td>17159.372857</td>\n",
       "    </tr>\n",
       "    <tr>\n",
       "      <th>East New York</th>\n",
       "      <td>15.0</td>\n",
       "      <td>48433.093333</td>\n",
       "    </tr>\n",
       "    <tr>\n",
       "      <th>Hunts Point</th>\n",
       "      <td>12.0</td>\n",
       "      <td>39246.016154</td>\n",
       "    </tr>\n",
       "    <tr>\n",
       "      <th>Maspeth</th>\n",
       "      <td>10.0</td>\n",
       "      <td>6658.283333</td>\n",
       "    </tr>\n",
       "    <tr>\n",
       "      <th>Mott Haven-Port Morris</th>\n",
       "      <td>10.0</td>\n",
       "      <td>17843.937857</td>\n",
       "    </tr>\n",
       "    <tr>\n",
       "      <th>Steinway</th>\n",
       "      <td>20.0</td>\n",
       "      <td>11227.155714</td>\n",
       "    </tr>\n",
       "    <tr>\n",
       "      <th>Whitestone</th>\n",
       "      <td>10.0</td>\n",
       "      <td>62038.306667</td>\n",
       "    </tr>\n",
       "  </tbody>\n",
       "</table>\n",
       "</div>"
      ],
      "text/plain": [
       "                        Total_Job_created    Avg_saving\n",
       "NTA                                                    \n",
       "Bushwick South                       10.0  26140.455000\n",
       "College Point                         2.0  17159.372857\n",
       "East New York                        15.0  48433.093333\n",
       "Hunts Point                          12.0  39246.016154\n",
       "Maspeth                              10.0   6658.283333\n",
       "Mott Haven-Port Morris               10.0  17843.937857\n",
       "Steinway                             20.0  11227.155714\n",
       "Whitestone                           10.0  62038.306667"
      ]
     },
     "execution_count": 43,
     "metadata": {},
     "output_type": "execute_result"
    }
   ],
   "source": [
    "Avg"
   ]
  },
  {
   "cell_type": "markdown",
   "metadata": {},
   "source": [
    "# Day 5"
   ]
  },
  {
   "cell_type": "markdown",
   "metadata": {},
   "source": [
    "# Question:  scatter plot of jobs created versus average savings. Use both a standard and a logarithmic scale for the average savings."
   ]
  },
  {
   "cell_type": "code",
   "execution_count": 40,
   "metadata": {},
   "outputs": [],
   "source": [
    "dff = pd.read_csv(\"Average_Job_and_saving.csv\")"
   ]
  },
  {
   "cell_type": "code",
   "execution_count": 41,
   "metadata": {},
   "outputs": [],
   "source": [
    "x=dff['Total_Job_created']\n",
    "y=dff['Avg_saving']"
   ]
  },
  {
   "cell_type": "code",
   "execution_count": 53,
   "metadata": {},
   "outputs": [
    {
     "data": {
      "text/plain": [
       "(1000.0, 100000.0)"
      ]
     },
     "execution_count": 53,
     "metadata": {},
     "output_type": "execute_result"
    },
    {
     "data": {
      "image/png": "[encoded data removed]",
      "text/plain": [
       "<Figure size 432x288 with 1 Axes>"
      ]
     },
     "metadata": {
      "needs_background": "light"
     },
     "output_type": "display_data"
    }
   ],
   "source": [
    "\n",
    "plt.xlabel('Total Job Created')\n",
    "plt.ylabel('Average Savings')\n",
    "plt.yscale('log')\n",
    "plt.scatter(x, y)\n",
    "plt.ylim([10e2, 10e4])"
   ]
  },
  {
   "cell_type": "code",
   "execution_count": 54,
   "metadata": {},
   "outputs": [],
   "source": [
    "#histogram of the log of the average total savings."
   ]
  },
  {
   "cell_type": "code",
   "execution_count": 55,
   "metadata": {},
   "outputs": [
    {
     "data": {
      "image/png": "[encoded data removed]",
      "text/plain": [
       "<Figure size 432x288 with 1 Axes>"
      ]
     },
     "metadata": {
      "needs_background": "light"
     },
     "output_type": "display_data"
    }
   ],
   "source": [
    "fig = plt.figure()\n",
    " \n",
    "plt.hist(y)\n",
    "plt.xscale('log')\n",
    "plt.xlabel('Average Total Savings')\n",
    "plt.ylabel('Fequency')\n",
    "plt.show() "
   ]
  },
  {
   "cell_type": "code",
   "execution_count": 56,
   "metadata": {},
   "outputs": [],
   "source": [
    "#Import comcast data into Python environment.\n",
    "df = pd.read_csv(\"Value_of_Energy_Cost_Savings_Program_Savings_for_Businesses_-_FY2020.csv\")"
   ]
  },
  {
   "cell_type": "markdown",
   "metadata": {},
   "source": [
    "# Question: line plot of the total jobs created for each month."
   ]
  },
  {
   "cell_type": "code",
   "execution_count": 63,
   "metadata": {},
   "outputs": [
    {
     "data": {
      "text/html": [
       "<div>\n",
       "<style scoped>\n",
       "    .dataframe tbody tr th:only-of-type {\n",
       "        vertical-align: middle;\n",
       "    }\n",
       "\n",
       "    .dataframe tbody tr th {\n",
       "        vertical-align: top;\n",
       "    }\n",
       "\n",
       "    .dataframe thead th {\n",
       "        text-align: right;\n",
       "    }\n",
       "</style>\n",
       "<table border=\"1\" class=\"dataframe\">\n",
       "  <thead>\n",
       "    <tr style=\"text-align: right;\">\n",
       "      <th></th>\n",
       "      <th>Effective Date</th>\n",
       "      <th>Job created</th>\n",
       "    </tr>\n",
       "  </thead>\n",
       "  <tbody>\n",
       "    <tr>\n",
       "      <th>0</th>\n",
       "      <td>03/04/2005</td>\n",
       "      <td>NaN</td>\n",
       "    </tr>\n",
       "    <tr>\n",
       "      <th>1</th>\n",
       "      <td>04/02/2008</td>\n",
       "      <td>NaN</td>\n",
       "    </tr>\n",
       "    <tr>\n",
       "      <th>2</th>\n",
       "      <td>01/05/2015</td>\n",
       "      <td>NaN</td>\n",
       "    </tr>\n",
       "    <tr>\n",
       "      <th>3</th>\n",
       "      <td>02/03/2020</td>\n",
       "      <td>NaN</td>\n",
       "    </tr>\n",
       "    <tr>\n",
       "      <th>4</th>\n",
       "      <td>06/30/2017</td>\n",
       "      <td>NaN</td>\n",
       "    </tr>\n",
       "    <tr>\n",
       "      <th>...</th>\n",
       "      <td>...</td>\n",
       "      <td>...</td>\n",
       "    </tr>\n",
       "    <tr>\n",
       "      <th>445</th>\n",
       "      <td>12/09/2008</td>\n",
       "      <td>10.0</td>\n",
       "    </tr>\n",
       "    <tr>\n",
       "      <th>446</th>\n",
       "      <td>12/05/2017</td>\n",
       "      <td>NaN</td>\n",
       "    </tr>\n",
       "    <tr>\n",
       "      <th>447</th>\n",
       "      <td>08/03/2018</td>\n",
       "      <td>NaN</td>\n",
       "    </tr>\n",
       "    <tr>\n",
       "      <th>448</th>\n",
       "      <td>01/26/2016</td>\n",
       "      <td>NaN</td>\n",
       "    </tr>\n",
       "    <tr>\n",
       "      <th>449</th>\n",
       "      <td>10/03/2019</td>\n",
       "      <td>NaN</td>\n",
       "    </tr>\n",
       "  </tbody>\n",
       "</table>\n",
       "<p>450 rows × 2 columns</p>\n",
       "</div>"
      ],
      "text/plain": [
       "    Effective Date  Job created\n",
       "0       03/04/2005          NaN\n",
       "1       04/02/2008          NaN\n",
       "2       01/05/2015          NaN\n",
       "3       02/03/2020          NaN\n",
       "4       06/30/2017          NaN\n",
       "..             ...          ...\n",
       "445     12/09/2008         10.0\n",
       "446     12/05/2017          NaN\n",
       "447     08/03/2018          NaN\n",
       "448     01/26/2016          NaN\n",
       "449     10/03/2019          NaN\n",
       "\n",
       "[450 rows x 2 columns]"
      ]
     },
     "execution_count": 63,
     "metadata": {},
     "output_type": "execute_result"
    }
   ],
   "source": [
    "df_date = df[['Effective Date', 'Job created']]\n",
    "\n",
    "df_date"
   ]
  },
  {
   "cell_type": "code",
   "execution_count": 64,
   "metadata": {},
   "outputs": [
    {
     "name": "stderr",
     "output_type": "stream",
     "text": [
      "<ipython-input-64-89f7e8cc1f05>:1: SettingWithCopyWarning: \n",
      "A value is trying to be set on a copy of a slice from a DataFrame.\n",
      "Try using .loc[row_indexer,col_indexer] = value instead\n",
      "\n",
      "See the caveats in the documentation: https://pandas.pydata.org/pandas-docs/stable/user_guide/indexing.html#returning-a-view-versus-a-copy\n",
      "  df_date[\"Effective Date\"] = pd.to_datetime(df_date[\"Effective Date\"])\n"
     ]
    }
   ],
   "source": [
    "df_date[\"Effective Date\"] = pd.to_datetime(df_date[\"Effective Date\"])"
   ]
  },
  {
   "cell_type": "code",
   "execution_count": 65,
   "metadata": {},
   "outputs": [],
   "source": [
    "df_date = df_date.set_index(df_date[\"Effective Date\"])"
   ]
  },
  {
   "cell_type": "code",
   "execution_count": 66,
   "metadata": {},
   "outputs": [
    {
     "data": {
      "text/plain": [
       "1993-02-05    1\n",
       "2004-03-05    1\n",
       "2005-02-03    1\n",
       "2005-03-04    1\n",
       "2005-06-30    1\n",
       "             ..\n",
       "2020-05-12    1\n",
       "2020-06-04    1\n",
       "2020-06-05    3\n",
       "2020-06-29    1\n",
       "2020-07-07    1\n",
       "Name: Effective Date, Length: 366, dtype: int64"
      ]
     },
     "execution_count": 66,
     "metadata": {},
     "output_type": "execute_result"
    }
   ],
   "source": [
    "# set month dataframe for plotting complaint volume against month\n",
    "Total_job=df_date[\"Effective Date\"].value_counts().sort_index()\n",
    "Total_job"
   ]
  },
  {
   "cell_type": "code",
   "execution_count": 67,
   "metadata": {},
   "outputs": [
    {
     "data": {
      "text/plain": [
       "Effective Date\n",
       "1993-02-28    15.0\n",
       "1993-03-31     0.0\n",
       "1993-04-30     0.0\n",
       "1993-05-31     0.0\n",
       "1993-06-30     0.0\n",
       "              ... \n",
       "2020-03-31     0.0\n",
       "2020-04-30     0.0\n",
       "2020-05-31     0.0\n",
       "2020-06-30     0.0\n",
       "2020-07-31     0.0\n",
       "Freq: M, Name: Job created, Length: 330, dtype: float64"
      ]
     },
     "execution_count": 67,
     "metadata": {},
     "output_type": "execute_result"
    }
   ],
   "source": [
    "Monthly_Total_job = df_date.groupby(pd.Grouper(freq=\"M\"))['Job created'].sum()\n",
    "Monthly_Total_job"
   ]
  },
  {
   "cell_type": "code",
   "execution_count": 68,
   "metadata": {},
   "outputs": [
    {
     "data": {
      "text/plain": [
       "Text(0, 0.5, 'Total Job Created')"
      ]
     },
     "execution_count": 68,
     "metadata": {},
     "output_type": "execute_result"
    },
    {
     "data": {
      "image/png": "[encoded data removed]",
      "text/plain": [
       "<Figure size 432x288 with 1 Axes>"
      ]
     },
     "metadata": {
      "needs_background": "light"
     },
     "output_type": "display_data"
    }
   ],
   "source": [
    "Monthly_Total_job.plot()\n",
    "plt.xlabel('Monthly basis dates')\n",
    "plt.ylabel('Total Job Created')"
   ]
  },
  {
   "cell_type": "code",
   "execution_count": null,
   "metadata": {},
   "outputs": [],
   "source": []
  },
  {
   "cell_type": "code",
   "execution_count": null,
   "metadata": {},
   "outputs": [],
   "source": []
  },
  {
   "cell_type": "code",
   "execution_count": null,
   "metadata": {},
   "outputs": [],
   "source": []
  }
 ],
 "metadata": {
  "kernelspec": {
   "display_name": "Python 3",
   "language": "python",
   "name": "python3"
  },
  "language_info": {
   "codemirror_mode": {
    "name": "ipython",
    "version": 3
   },
   "file_extension": ".py",
   "mimetype": "text/x-python",
   "name": "python",
   "nbconvert_exporter": "python",
   "pygments_lexer": "ipython3",
   "version": "3.8.5"
  }
 },
 "nbformat": 4,
 "nbformat_minor": 4
}
