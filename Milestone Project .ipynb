{
 "cells": [
  {
   "cell_type": "markdown",
   "metadata": {},
   "source": [
    "# Day4"
   ]
  },
  {
   "cell_type": "code",
   "execution_count": 1,
   "metadata": {},
   "outputs": [],
   "source": [
    "import numpy as np\n",
    "import pandas as pd\n",
    "import matplotlib.pyplot as plt\n",
    "import seaborn as sns"
   ]
  },
  {
   "cell_type": "code",
   "execution_count": 2,
   "metadata": {},
   "outputs": [],
   "source": [
    "#Import comcast data into Python environment.\n",
    "df = pd.read_csv(\"Value_of_Energy_Cost_Savings_Program_Savings_for_Businesses_-_FY2020.csv\")"
   ]
  },
  {
   "cell_type": "code",
   "execution_count": 3,
   "metadata": {},
   "outputs": [
    {
     "data": {
      "text/plain": [
       "True"
      ]
     },
     "execution_count": 3,
     "metadata": {},
     "output_type": "execute_result"
    }
   ],
   "source": [
    "df.isnull().values.any()"
   ]
  },
  {
   "cell_type": "code",
   "execution_count": 4,
   "metadata": {},
   "outputs": [
    {
     "data": {
      "text/html": [
       "<div>\n",
       "<style scoped>\n",
       "    .dataframe tbody tr th:only-of-type {\n",
       "        vertical-align: middle;\n",
       "    }\n",
       "\n",
       "    .dataframe tbody tr th {\n",
       "        vertical-align: top;\n",
       "    }\n",
       "\n",
       "    .dataframe thead th {\n",
       "        text-align: right;\n",
       "    }\n",
       "</style>\n",
       "<table border=\"1\" class=\"dataframe\">\n",
       "  <thead>\n",
       "    <tr style=\"text-align: right;\">\n",
       "      <th></th>\n",
       "      <th>Company Name</th>\n",
       "      <th>company contact</th>\n",
       "      <th>company email</th>\n",
       "      <th>company phone</th>\n",
       "      <th>Address</th>\n",
       "      <th>City</th>\n",
       "      <th>State</th>\n",
       "      <th>Postcode</th>\n",
       "      <th>Industry</th>\n",
       "      <th>Industry descr</th>\n",
       "      <th>...</th>\n",
       "      <th>Savings from beginning receiving benefits</th>\n",
       "      <th>Borough</th>\n",
       "      <th>Latitude</th>\n",
       "      <th>Longitude</th>\n",
       "      <th>Community Board</th>\n",
       "      <th>Council District</th>\n",
       "      <th>Census Tract</th>\n",
       "      <th>BIN</th>\n",
       "      <th>BBL</th>\n",
       "      <th>NTA</th>\n",
       "    </tr>\n",
       "  </thead>\n",
       "  <tbody>\n",
       "    <tr>\n",
       "      <th>0</th>\n",
       "      <td>1 State Street</td>\n",
       "      <td>David Neiburg</td>\n",
       "      <td>eskoblo@energyspec.com</td>\n",
       "      <td>7186779077</td>\n",
       "      <td>1114 Avenue J</td>\n",
       "      <td>Brooklyn</td>\n",
       "      <td>NY</td>\n",
       "      <td>11230</td>\n",
       "      <td>Commercial</td>\n",
       "      <td>35 story building</td>\n",
       "      <td>...</td>\n",
       "      <td>349.78</td>\n",
       "      <td>Brooklyn</td>\n",
       "      <td>40.624784</td>\n",
       "      <td>-73.964920</td>\n",
       "      <td>314.0</td>\n",
       "      <td>44.0</td>\n",
       "      <td>534.0</td>\n",
       "      <td>3179818.0</td>\n",
       "      <td>3.067130e+09</td>\n",
       "      <td>Midwood</td>\n",
       "    </tr>\n",
       "    <tr>\n",
       "      <th>1</th>\n",
       "      <td>100 Church LLC</td>\n",
       "      <td>Edward A. Carroll</td>\n",
       "      <td>NaN</td>\n",
       "      <td>2125663000</td>\n",
       "      <td>100 Church Street</td>\n",
       "      <td>NY</td>\n",
       "      <td>NY</td>\n",
       "      <td>10007</td>\n",
       "      <td>Commercial</td>\n",
       "      <td>21 Floors</td>\n",
       "      <td>...</td>\n",
       "      <td>4423698.05</td>\n",
       "      <td>New York</td>\n",
       "      <td>40.712968</td>\n",
       "      <td>-74.009490</td>\n",
       "      <td>101.0</td>\n",
       "      <td>1.0</td>\n",
       "      <td>21.0</td>\n",
       "      <td>1001409.0</td>\n",
       "      <td>1.001250e+09</td>\n",
       "      <td>SoHo-TriBeCa-Civic Center-Little Italy</td>\n",
       "    </tr>\n",
       "    <tr>\n",
       "      <th>2</th>\n",
       "      <td>100 Wall Investments</td>\n",
       "      <td>Jerry Branam</td>\n",
       "      <td>NaN</td>\n",
       "      <td>2122487160</td>\n",
       "      <td>96 Wall Street</td>\n",
       "      <td>New York</td>\n",
       "      <td>NY</td>\n",
       "      <td>10005</td>\n",
       "      <td>Landlord</td>\n",
       "      <td>NaN</td>\n",
       "      <td>...</td>\n",
       "      <td>1814542.62</td>\n",
       "      <td>New York</td>\n",
       "      <td>40.705052</td>\n",
       "      <td>-74.007199</td>\n",
       "      <td>101.0</td>\n",
       "      <td>1.0</td>\n",
       "      <td>7.0</td>\n",
       "      <td>1000875.0</td>\n",
       "      <td>1.000380e+09</td>\n",
       "      <td>Battery Park City-Lower Manhattan</td>\n",
       "    </tr>\n",
       "    <tr>\n",
       "      <th>3</th>\n",
       "      <td>1-10 Bush Terminal Owner LP</td>\n",
       "      <td>Andrew Kimball</td>\n",
       "      <td>akimball@industrycity.com</td>\n",
       "      <td>3474178429</td>\n",
       "      <td>220 36th St, Suite 2A</td>\n",
       "      <td>Brooklyn</td>\n",
       "      <td>NY</td>\n",
       "      <td>11232</td>\n",
       "      <td>Landlord</td>\n",
       "      <td>Special Eligible Premises for eligible businesses</td>\n",
       "      <td>...</td>\n",
       "      <td>6755.31</td>\n",
       "      <td>Brooklyn</td>\n",
       "      <td>40.656061</td>\n",
       "      <td>-74.007334</td>\n",
       "      <td>307.0</td>\n",
       "      <td>38.0</td>\n",
       "      <td>2.0</td>\n",
       "      <td>3398687.0</td>\n",
       "      <td>3.006950e+09</td>\n",
       "      <td>Sunset Park West</td>\n",
       "    </tr>\n",
       "    <tr>\n",
       "      <th>4</th>\n",
       "      <td>120 Broadway Acquisitions JV, LLC (Ldmk)</td>\n",
       "      <td>Carl Letich</td>\n",
       "      <td>clettich@silvprop.com</td>\n",
       "      <td>2124064020</td>\n",
       "      <td>120 Broadway</td>\n",
       "      <td>New York</td>\n",
       "      <td>NY</td>\n",
       "      <td>10271</td>\n",
       "      <td>Commercial</td>\n",
       "      <td>NaN</td>\n",
       "      <td>...</td>\n",
       "      <td>3293055.08</td>\n",
       "      <td>New York</td>\n",
       "      <td>40.708546</td>\n",
       "      <td>-74.011041</td>\n",
       "      <td>101.0</td>\n",
       "      <td>1.0</td>\n",
       "      <td>7.0</td>\n",
       "      <td>1001026.0</td>\n",
       "      <td>1.000478e+09</td>\n",
       "      <td>Battery Park City-Lower Manhattan</td>\n",
       "    </tr>\n",
       "    <tr>\n",
       "      <th>...</th>\n",
       "      <td>...</td>\n",
       "      <td>...</td>\n",
       "      <td>...</td>\n",
       "      <td>...</td>\n",
       "      <td>...</td>\n",
       "      <td>...</td>\n",
       "      <td>...</td>\n",
       "      <td>...</td>\n",
       "      <td>...</td>\n",
       "      <td>...</td>\n",
       "      <td>...</td>\n",
       "      <td>...</td>\n",
       "      <td>...</td>\n",
       "      <td>...</td>\n",
       "      <td>...</td>\n",
       "      <td>...</td>\n",
       "      <td>...</td>\n",
       "      <td>...</td>\n",
       "      <td>...</td>\n",
       "      <td>...</td>\n",
       "      <td>...</td>\n",
       "    </tr>\n",
       "    <tr>\n",
       "      <th>445</th>\n",
       "      <td>WONTON FOOD, INC.</td>\n",
       "      <td>DONALD LAU</td>\n",
       "      <td>donaldlau@wontonfood.com</td>\n",
       "      <td>7186286868</td>\n",
       "      <td>220-222  MOORE STREET</td>\n",
       "      <td>Brooklyn</td>\n",
       "      <td>NY</td>\n",
       "      <td>11206</td>\n",
       "      <td>Manufacturing</td>\n",
       "      <td>MFG. PASTA, EGGROLL SKINS</td>\n",
       "      <td>...</td>\n",
       "      <td>965843.58</td>\n",
       "      <td>Brooklyn</td>\n",
       "      <td>40.704425</td>\n",
       "      <td>-73.936010</td>\n",
       "      <td>301.0</td>\n",
       "      <td>34.0</td>\n",
       "      <td>485.0</td>\n",
       "      <td>3071539.0</td>\n",
       "      <td>3.031090e+09</td>\n",
       "      <td>Bushwick South</td>\n",
       "    </tr>\n",
       "    <tr>\n",
       "      <th>446</th>\n",
       "      <td>Wood Works</td>\n",
       "      <td>Gordon Brawm</td>\n",
       "      <td>brawnworks@gmail.com</td>\n",
       "      <td>9179404950</td>\n",
       "      <td>162 Cook Street</td>\n",
       "      <td>Brooklyn</td>\n",
       "      <td>NY</td>\n",
       "      <td>11206</td>\n",
       "      <td>Manufacturing</td>\n",
       "      <td>Installer of wood furniture</td>\n",
       "      <td>...</td>\n",
       "      <td>3585.40</td>\n",
       "      <td>Brooklyn</td>\n",
       "      <td>40.702869</td>\n",
       "      <td>-73.936466</td>\n",
       "      <td>301.0</td>\n",
       "      <td>34.0</td>\n",
       "      <td>485.0</td>\n",
       "      <td>3071625.0</td>\n",
       "      <td>3.031230e+09</td>\n",
       "      <td>Bushwick South</td>\n",
       "    </tr>\n",
       "    <tr>\n",
       "      <th>447</th>\n",
       "      <td>WorldWide Plumbing Supply, Inc.</td>\n",
       "      <td>Surie Lefkowitz</td>\n",
       "      <td>sheidya@wwps.com</td>\n",
       "      <td>7188533002</td>\n",
       "      <td>125 Lake Avenue</td>\n",
       "      <td>Staten Island</td>\n",
       "      <td>NY</td>\n",
       "      <td>10303</td>\n",
       "      <td>Manufacturing</td>\n",
       "      <td>Plumbing Fixtures, Parts &amp; Supplies, Plumbers</td>\n",
       "      <td>...</td>\n",
       "      <td>20487.73</td>\n",
       "      <td>Staten Island</td>\n",
       "      <td>40.633518</td>\n",
       "      <td>-74.150942</td>\n",
       "      <td>501.0</td>\n",
       "      <td>49.0</td>\n",
       "      <td>239.0</td>\n",
       "      <td>5107122.0</td>\n",
       "      <td>5.011610e+09</td>\n",
       "      <td>Mariner's Harbor-Arlington-Port Ivory-Granitev...</td>\n",
       "    </tr>\n",
       "    <tr>\n",
       "      <th>448</th>\n",
       "      <td>WUD Furniture LLC</td>\n",
       "      <td>Keren Springer</td>\n",
       "      <td>keren@wudfurniture.com</td>\n",
       "      <td>7184867952</td>\n",
       "      <td>1102 Atlantic Avenue</td>\n",
       "      <td>Brooklyn</td>\n",
       "      <td>NY</td>\n",
       "      <td>11238</td>\n",
       "      <td>Manufacturing</td>\n",
       "      <td>We make handcrafted furniture, surfaces, lighting</td>\n",
       "      <td>...</td>\n",
       "      <td>12287.32</td>\n",
       "      <td>Brooklyn</td>\n",
       "      <td>40.679518</td>\n",
       "      <td>-73.956819</td>\n",
       "      <td>308.0</td>\n",
       "      <td>35.0</td>\n",
       "      <td>305.0</td>\n",
       "      <td>3027572.0</td>\n",
       "      <td>3.011260e+09</td>\n",
       "      <td>Crown Heights North</td>\n",
       "    </tr>\n",
       "    <tr>\n",
       "      <th>449</th>\n",
       "      <td>Wurtec Incorporated</td>\n",
       "      <td>Bill Popp</td>\n",
       "      <td>bill.popp@wurtec.com</td>\n",
       "      <td>4197261066</td>\n",
       "      <td>31-50 31st Street</td>\n",
       "      <td>Lond Island City</td>\n",
       "      <td>NY</td>\n",
       "      <td>11106</td>\n",
       "      <td>Wholesale/Warehouse/Distribution</td>\n",
       "      <td>Elevator  tooling products</td>\n",
       "      <td>...</td>\n",
       "      <td>0.00</td>\n",
       "      <td>Queens</td>\n",
       "      <td>40.763148</td>\n",
       "      <td>-73.924442</td>\n",
       "      <td>401.0</td>\n",
       "      <td>22.0</td>\n",
       "      <td>61.0</td>\n",
       "      <td>4007562.0</td>\n",
       "      <td>4.005890e+09</td>\n",
       "      <td>Astoria</td>\n",
       "    </tr>\n",
       "  </tbody>\n",
       "</table>\n",
       "<p>450 rows × 26 columns</p>\n",
       "</div>"
      ],
      "text/plain": [
       "                                 Company Name    company contact  \\\n",
       "0                              1 State Street      David Neiburg   \n",
       "1                              100 Church LLC  Edward A. Carroll   \n",
       "2                        100 Wall Investments       Jerry Branam   \n",
       "3                 1-10 Bush Terminal Owner LP     Andrew Kimball   \n",
       "4    120 Broadway Acquisitions JV, LLC (Ldmk)        Carl Letich   \n",
       "..                                        ...                ...   \n",
       "445                         WONTON FOOD, INC.         DONALD LAU   \n",
       "446                                Wood Works       Gordon Brawm   \n",
       "447           WorldWide Plumbing Supply, Inc.    Surie Lefkowitz   \n",
       "448                         WUD Furniture LLC     Keren Springer   \n",
       "449                       Wurtec Incorporated          Bill Popp   \n",
       "\n",
       "                 company email company phone                Address  \\\n",
       "0       eskoblo@energyspec.com    7186779077          1114 Avenue J   \n",
       "1                          NaN    2125663000      100 Church Street   \n",
       "2                          NaN    2122487160         96 Wall Street   \n",
       "3    akimball@industrycity.com    3474178429  220 36th St, Suite 2A   \n",
       "4        clettich@silvprop.com    2124064020           120 Broadway   \n",
       "..                         ...           ...                    ...   \n",
       "445   donaldlau@wontonfood.com    7186286868  220-222  MOORE STREET   \n",
       "446       brawnworks@gmail.com    9179404950        162 Cook Street   \n",
       "447           sheidya@wwps.com    7188533002        125 Lake Avenue   \n",
       "448     keren@wudfurniture.com    7184867952   1102 Atlantic Avenue   \n",
       "449       bill.popp@wurtec.com    4197261066      31-50 31st Street   \n",
       "\n",
       "                 City State  Postcode                          Industry  \\\n",
       "0            Brooklyn    NY     11230                        Commercial   \n",
       "1                  NY    NY     10007                        Commercial   \n",
       "2            New York    NY     10005                          Landlord   \n",
       "3            Brooklyn    NY     11232                          Landlord   \n",
       "4            New York    NY     10271                        Commercial   \n",
       "..                ...   ...       ...                               ...   \n",
       "445          Brooklyn    NY     11206                     Manufacturing   \n",
       "446          Brooklyn    NY     11206                     Manufacturing   \n",
       "447     Staten Island    NY     10303                     Manufacturing   \n",
       "448          Brooklyn    NY     11238                     Manufacturing   \n",
       "449  Lond Island City    NY     11106  Wholesale/Warehouse/Distribution   \n",
       "\n",
       "                                        Industry descr  ...  \\\n",
       "0                                    35 story building  ...   \n",
       "1                                            21 Floors  ...   \n",
       "2                                                  NaN  ...   \n",
       "3    Special Eligible Premises for eligible businesses  ...   \n",
       "4                                                  NaN  ...   \n",
       "..                                                 ...  ...   \n",
       "445                          MFG. PASTA, EGGROLL SKINS  ...   \n",
       "446                        Installer of wood furniture  ...   \n",
       "447      Plumbing Fixtures, Parts & Supplies, Plumbers  ...   \n",
       "448  We make handcrafted furniture, surfaces, lighting  ...   \n",
       "449                         Elevator  tooling products  ...   \n",
       "\n",
       "    Savings from beginning receiving benefits        Borough   Latitude  \\\n",
       "0                                      349.78       Brooklyn  40.624784   \n",
       "1                                  4423698.05       New York  40.712968   \n",
       "2                                  1814542.62       New York  40.705052   \n",
       "3                                     6755.31       Brooklyn  40.656061   \n",
       "4                                  3293055.08       New York  40.708546   \n",
       "..                                        ...            ...        ...   \n",
       "445                                 965843.58       Brooklyn  40.704425   \n",
       "446                                   3585.40       Brooklyn  40.702869   \n",
       "447                                  20487.73  Staten Island  40.633518   \n",
       "448                                  12287.32       Brooklyn  40.679518   \n",
       "449                                      0.00         Queens  40.763148   \n",
       "\n",
       "     Longitude Community Board  Council District  Census Tract        BIN  \\\n",
       "0   -73.964920           314.0              44.0         534.0  3179818.0   \n",
       "1   -74.009490           101.0               1.0          21.0  1001409.0   \n",
       "2   -74.007199           101.0               1.0           7.0  1000875.0   \n",
       "3   -74.007334           307.0              38.0           2.0  3398687.0   \n",
       "4   -74.011041           101.0               1.0           7.0  1001026.0   \n",
       "..         ...             ...               ...           ...        ...   \n",
       "445 -73.936010           301.0              34.0         485.0  3071539.0   \n",
       "446 -73.936466           301.0              34.0         485.0  3071625.0   \n",
       "447 -74.150942           501.0              49.0         239.0  5107122.0   \n",
       "448 -73.956819           308.0              35.0         305.0  3027572.0   \n",
       "449 -73.924442           401.0              22.0          61.0  4007562.0   \n",
       "\n",
       "              BBL                                                NTA  \n",
       "0    3.067130e+09                                            Midwood  \n",
       "1    1.001250e+09             SoHo-TriBeCa-Civic Center-Little Italy  \n",
       "2    1.000380e+09                  Battery Park City-Lower Manhattan  \n",
       "3    3.006950e+09                                   Sunset Park West  \n",
       "4    1.000478e+09                  Battery Park City-Lower Manhattan  \n",
       "..            ...                                                ...  \n",
       "445  3.031090e+09                                     Bushwick South  \n",
       "446  3.031230e+09                                     Bushwick South  \n",
       "447  5.011610e+09  Mariner's Harbor-Arlington-Port Ivory-Granitev...  \n",
       "448  3.011260e+09                                Crown Heights North  \n",
       "449  4.005890e+09                                            Astoria  \n",
       "\n",
       "[450 rows x 26 columns]"
      ]
     },
     "execution_count": 4,
     "metadata": {},
     "output_type": "execute_result"
    }
   ],
   "source": [
    "df"
   ]
  },
  {
   "cell_type": "markdown",
   "metadata": {},
   "source": [
    "# Quesion 1:How many different companies are represented in the data set?"
   ]
  },
  {
   "cell_type": "code",
   "execution_count": 5,
   "metadata": {},
   "outputs": [
    {
     "name": "stdout",
     "output_type": "stream",
     "text": [
      "439\n"
     ]
    }
   ],
   "source": [
    "print(df[\"Company Name\"].nunique())"
   ]
  },
  {
   "cell_type": "code",
   "execution_count": 6,
   "metadata": {},
   "outputs": [],
   "source": [
    "# Answer 439 different companies are represented in the data set"
   ]
  },
  {
   "cell_type": "markdown",
   "metadata": {},
   "source": [
    "# Quesion 2:What is the total number of jobs created for businesses in Queens?"
   ]
  },
  {
   "cell_type": "code",
   "execution_count": 7,
   "metadata": {},
   "outputs": [
    {
     "data": {
      "text/plain": [
       "73"
      ]
     },
     "execution_count": 7,
     "metadata": {},
     "output_type": "execute_result"
    }
   ],
   "source": [
    "df['City'].str.contains('Queens',case=False).sum()"
   ]
  },
  {
   "cell_type": "code",
   "execution_count": 8,
   "metadata": {},
   "outputs": [],
   "source": [
    "# Answer: 73 total number of jobs created for businesses in Queens."
   ]
  },
  {
   "cell_type": "markdown",
   "metadata": {},
   "source": [
    "# Question 3: How many different unique email domains names are there in the data set?"
   ]
  },
  {
   "cell_type": "code",
   "execution_count": 9,
   "metadata": {},
   "outputs": [],
   "source": [
    "df['domain'] = df['company email'].str.split('@').str[1]"
   ]
  },
  {
   "cell_type": "code",
   "execution_count": 10,
   "metadata": {},
   "outputs": [
    {
     "data": {
      "text/plain": [
       "gmail.com             30\n",
       "aol.com               22\n",
       "verizon.net            3\n",
       "yahoo.com              3\n",
       "energyspec.com         3\n",
       "                      ..\n",
       "werwaissandco.com      1\n",
       "epic-pharma.com        1\n",
       "jonathanburden.com     1\n",
       "empressmam.com         1\n",
       "gcreate.com            1\n",
       "Name: domain, Length: 356, dtype: int64"
      ]
     },
     "execution_count": 10,
     "metadata": {},
     "output_type": "execute_result"
    }
   ],
   "source": [
    "df['domain'].value_counts()"
   ]
  },
  {
   "cell_type": "code",
   "execution_count": 11,
   "metadata": {},
   "outputs": [
    {
     "data": {
      "text/plain": [
       "356"
      ]
     },
     "execution_count": 11,
     "metadata": {},
     "output_type": "execute_result"
    }
   ],
   "source": [
    "df['domain'].nunique()"
   ]
  },
  {
   "cell_type": "code",
   "execution_count": 12,
   "metadata": {},
   "outputs": [],
   "source": [
    "# Answer: 356 different unique email domains names are there in the data set."
   ]
  },
  {
   "cell_type": "markdown",
   "metadata": {},
   "source": [
    "# Qustion 4 and 5: Considering only NTAs with at least 5 listed businesses, what is the average total savings and the total jobs created for each NTA? Save your result for the previous question as a CSV file."
   ]
  },
  {
   "cell_type": "code",
   "execution_count": 13,
   "metadata": {},
   "outputs": [
    {
     "data": {
      "text/html": [
       "<div>\n",
       "<style scoped>\n",
       "    .dataframe tbody tr th:only-of-type {\n",
       "        vertical-align: middle;\n",
       "    }\n",
       "\n",
       "    .dataframe tbody tr th {\n",
       "        vertical-align: top;\n",
       "    }\n",
       "\n",
       "    .dataframe thead th {\n",
       "        text-align: right;\n",
       "    }\n",
       "</style>\n",
       "<table border=\"1\" class=\"dataframe\">\n",
       "  <thead>\n",
       "    <tr style=\"text-align: right;\">\n",
       "      <th></th>\n",
       "      <th>NTA</th>\n",
       "      <th>Job created</th>\n",
       "      <th>Total Savings</th>\n",
       "    </tr>\n",
       "  </thead>\n",
       "  <tbody>\n",
       "    <tr>\n",
       "      <th>29</th>\n",
       "      <td>Whitestone</td>\n",
       "      <td>10.0</td>\n",
       "      <td>4026.73</td>\n",
       "    </tr>\n",
       "    <tr>\n",
       "      <th>95</th>\n",
       "      <td>Mott Haven-Port Morris</td>\n",
       "      <td>5.0</td>\n",
       "      <td>3057.76</td>\n",
       "    </tr>\n",
       "    <tr>\n",
       "      <th>120</th>\n",
       "      <td>Hunts Point</td>\n",
       "      <td>12.0</td>\n",
       "      <td>181579.24</td>\n",
       "    </tr>\n",
       "    <tr>\n",
       "      <th>137</th>\n",
       "      <td>Maspeth</td>\n",
       "      <td>10.0</td>\n",
       "      <td>52.33</td>\n",
       "    </tr>\n",
       "    <tr>\n",
       "      <th>325</th>\n",
       "      <td>College Point</td>\n",
       "      <td>2.0</td>\n",
       "      <td>54127.14</td>\n",
       "    </tr>\n",
       "    <tr>\n",
       "      <th>353</th>\n",
       "      <td>Mott Haven-Port Morris</td>\n",
       "      <td>2.0</td>\n",
       "      <td>1.85</td>\n",
       "    </tr>\n",
       "    <tr>\n",
       "      <th>414</th>\n",
       "      <td>East New York</td>\n",
       "      <td>15.0</td>\n",
       "      <td>10646.47</td>\n",
       "    </tr>\n",
       "    <tr>\n",
       "      <th>432</th>\n",
       "      <td>Mott Haven-Port Morris</td>\n",
       "      <td>3.0</td>\n",
       "      <td>18.70</td>\n",
       "    </tr>\n",
       "    <tr>\n",
       "      <th>433</th>\n",
       "      <td>Steinway</td>\n",
       "      <td>20.0</td>\n",
       "      <td>2056.80</td>\n",
       "    </tr>\n",
       "    <tr>\n",
       "      <th>445</th>\n",
       "      <td>Bushwick South</td>\n",
       "      <td>10.0</td>\n",
       "      <td>35384.76</td>\n",
       "    </tr>\n",
       "  </tbody>\n",
       "</table>\n",
       "</div>"
      ],
      "text/plain": [
       "                        NTA  Job created  Total Savings\n",
       "29               Whitestone         10.0        4026.73\n",
       "95   Mott Haven-Port Morris          5.0        3057.76\n",
       "120             Hunts Point         12.0      181579.24\n",
       "137                 Maspeth         10.0          52.33\n",
       "325           College Point          2.0       54127.14\n",
       "353  Mott Haven-Port Morris          2.0           1.85\n",
       "414           East New York         15.0       10646.47\n",
       "432  Mott Haven-Port Morris          3.0          18.70\n",
       "433                Steinway         20.0        2056.80\n",
       "445          Bushwick South         10.0       35384.76"
      ]
     },
     "execution_count": 13,
     "metadata": {},
     "output_type": "execute_result"
    }
   ],
   "source": [
    "df_new = df[['NTA', 'Job created', 'Total Savings']].dropna()\n",
    "df_new "
   ]
  },
  {
   "cell_type": "code",
   "execution_count": 14,
   "metadata": {},
   "outputs": [
    {
     "data": {
      "text/html": [
       "<div>\n",
       "<style scoped>\n",
       "    .dataframe tbody tr th:only-of-type {\n",
       "        vertical-align: middle;\n",
       "    }\n",
       "\n",
       "    .dataframe tbody tr th {\n",
       "        vertical-align: top;\n",
       "    }\n",
       "\n",
       "    .dataframe thead th {\n",
       "        text-align: right;\n",
       "    }\n",
       "</style>\n",
       "<table border=\"1\" class=\"dataframe\">\n",
       "  <thead>\n",
       "    <tr style=\"text-align: right;\">\n",
       "      <th></th>\n",
       "      <th>Total_Job_created</th>\n",
       "    </tr>\n",
       "    <tr>\n",
       "      <th>NTA</th>\n",
       "      <th></th>\n",
       "    </tr>\n",
       "  </thead>\n",
       "  <tbody>\n",
       "    <tr>\n",
       "      <th>Bushwick South</th>\n",
       "      <td>10.0</td>\n",
       "    </tr>\n",
       "    <tr>\n",
       "      <th>College Point</th>\n",
       "      <td>2.0</td>\n",
       "    </tr>\n",
       "    <tr>\n",
       "      <th>East New York</th>\n",
       "      <td>15.0</td>\n",
       "    </tr>\n",
       "    <tr>\n",
       "      <th>Hunts Point</th>\n",
       "      <td>12.0</td>\n",
       "    </tr>\n",
       "    <tr>\n",
       "      <th>Maspeth</th>\n",
       "      <td>10.0</td>\n",
       "    </tr>\n",
       "    <tr>\n",
       "      <th>Mott Haven-Port Morris</th>\n",
       "      <td>10.0</td>\n",
       "    </tr>\n",
       "    <tr>\n",
       "      <th>Steinway</th>\n",
       "      <td>20.0</td>\n",
       "    </tr>\n",
       "    <tr>\n",
       "      <th>Whitestone</th>\n",
       "      <td>10.0</td>\n",
       "    </tr>\n",
       "  </tbody>\n",
       "</table>\n",
       "</div>"
      ],
      "text/plain": [
       "                        Total_Job_created\n",
       "NTA                                      \n",
       "Bushwick South                       10.0\n",
       "College Point                         2.0\n",
       "East New York                        15.0\n",
       "Hunts Point                          12.0\n",
       "Maspeth                              10.0\n",
       "Mott Haven-Port Morris               10.0\n",
       "Steinway                             20.0\n",
       "Whitestone                           10.0"
      ]
     },
     "execution_count": 14,
     "metadata": {},
     "output_type": "execute_result"
    }
   ],
   "source": [
    "Total_Job_created=df_new .groupby(by='NTA')['Job created'].sum().to_frame()\n",
    "\n",
    "pd.set_option('display.max_columns', None)\n",
    "Total_Job_created\n",
    "df1 = Total_Job_created.rename({'Job created': 'Total_Job_created'}, axis=1)\n",
    "df1"
   ]
  },
  {
   "cell_type": "code",
   "execution_count": 15,
   "metadata": {},
   "outputs": [
    {
     "data": {
      "text/html": [
       "<div>\n",
       "<style scoped>\n",
       "    .dataframe tbody tr th:only-of-type {\n",
       "        vertical-align: middle;\n",
       "    }\n",
       "\n",
       "    .dataframe tbody tr th {\n",
       "        vertical-align: top;\n",
       "    }\n",
       "\n",
       "    .dataframe thead th {\n",
       "        text-align: right;\n",
       "    }\n",
       "</style>\n",
       "<table border=\"1\" class=\"dataframe\">\n",
       "  <thead>\n",
       "    <tr style=\"text-align: right;\">\n",
       "      <th></th>\n",
       "      <th>Avg_saving</th>\n",
       "    </tr>\n",
       "    <tr>\n",
       "      <th>NTA</th>\n",
       "      <th></th>\n",
       "    </tr>\n",
       "  </thead>\n",
       "  <tbody>\n",
       "    <tr>\n",
       "      <th>Bushwick South</th>\n",
       "      <td>35384.760000</td>\n",
       "    </tr>\n",
       "    <tr>\n",
       "      <th>College Point</th>\n",
       "      <td>54127.140000</td>\n",
       "    </tr>\n",
       "    <tr>\n",
       "      <th>East New York</th>\n",
       "      <td>10646.470000</td>\n",
       "    </tr>\n",
       "    <tr>\n",
       "      <th>Hunts Point</th>\n",
       "      <td>181579.240000</td>\n",
       "    </tr>\n",
       "    <tr>\n",
       "      <th>Maspeth</th>\n",
       "      <td>52.330000</td>\n",
       "    </tr>\n",
       "    <tr>\n",
       "      <th>Mott Haven-Port Morris</th>\n",
       "      <td>1026.103333</td>\n",
       "    </tr>\n",
       "    <tr>\n",
       "      <th>Steinway</th>\n",
       "      <td>2056.800000</td>\n",
       "    </tr>\n",
       "    <tr>\n",
       "      <th>Whitestone</th>\n",
       "      <td>4026.730000</td>\n",
       "    </tr>\n",
       "  </tbody>\n",
       "</table>\n",
       "</div>"
      ],
      "text/plain": [
       "                           Avg_saving\n",
       "NTA                                  \n",
       "Bushwick South           35384.760000\n",
       "College Point            54127.140000\n",
       "East New York            10646.470000\n",
       "Hunts Point             181579.240000\n",
       "Maspeth                     52.330000\n",
       "Mott Haven-Port Morris    1026.103333\n",
       "Steinway                  2056.800000\n",
       "Whitestone                4026.730000"
      ]
     },
     "execution_count": 15,
     "metadata": {},
     "output_type": "execute_result"
    }
   ],
   "source": [
    "Avg_total_saving=df_new .groupby(by='NTA')['Total Savings'].mean().to_frame()\n",
    "#Avg_total_saving=Avg_total_saving.to_frame()\n",
    "Avg_total_saving\n",
    "df2 = Avg_total_saving.rename({'Total Savings': 'Avg_saving'}, axis=1)\n",
    "df2"
   ]
  },
  {
   "cell_type": "code",
   "execution_count": 16,
   "metadata": {},
   "outputs": [
    {
     "data": {
      "text/html": [
       "<div>\n",
       "<style scoped>\n",
       "    .dataframe tbody tr th:only-of-type {\n",
       "        vertical-align: middle;\n",
       "    }\n",
       "\n",
       "    .dataframe tbody tr th {\n",
       "        vertical-align: top;\n",
       "    }\n",
       "\n",
       "    .dataframe thead th {\n",
       "        text-align: right;\n",
       "    }\n",
       "</style>\n",
       "<table border=\"1\" class=\"dataframe\">\n",
       "  <thead>\n",
       "    <tr style=\"text-align: right;\">\n",
       "      <th></th>\n",
       "      <th>Total_Job_created</th>\n",
       "      <th>Avg_saving</th>\n",
       "    </tr>\n",
       "    <tr>\n",
       "      <th>NTA</th>\n",
       "      <th></th>\n",
       "      <th></th>\n",
       "    </tr>\n",
       "  </thead>\n",
       "  <tbody>\n",
       "    <tr>\n",
       "      <th>Bushwick South</th>\n",
       "      <td>10.0</td>\n",
       "      <td>35384.760000</td>\n",
       "    </tr>\n",
       "    <tr>\n",
       "      <th>College Point</th>\n",
       "      <td>2.0</td>\n",
       "      <td>54127.140000</td>\n",
       "    </tr>\n",
       "    <tr>\n",
       "      <th>East New York</th>\n",
       "      <td>15.0</td>\n",
       "      <td>10646.470000</td>\n",
       "    </tr>\n",
       "    <tr>\n",
       "      <th>Hunts Point</th>\n",
       "      <td>12.0</td>\n",
       "      <td>181579.240000</td>\n",
       "    </tr>\n",
       "    <tr>\n",
       "      <th>Maspeth</th>\n",
       "      <td>10.0</td>\n",
       "      <td>52.330000</td>\n",
       "    </tr>\n",
       "    <tr>\n",
       "      <th>Mott Haven-Port Morris</th>\n",
       "      <td>10.0</td>\n",
       "      <td>1026.103333</td>\n",
       "    </tr>\n",
       "    <tr>\n",
       "      <th>Steinway</th>\n",
       "      <td>20.0</td>\n",
       "      <td>2056.800000</td>\n",
       "    </tr>\n",
       "    <tr>\n",
       "      <th>Whitestone</th>\n",
       "      <td>10.0</td>\n",
       "      <td>4026.730000</td>\n",
       "    </tr>\n",
       "  </tbody>\n",
       "</table>\n",
       "</div>"
      ],
      "text/plain": [
       "                        Total_Job_created     Avg_saving\n",
       "NTA                                                     \n",
       "Bushwick South                       10.0   35384.760000\n",
       "College Point                         2.0   54127.140000\n",
       "East New York                        15.0   10646.470000\n",
       "Hunts Point                          12.0  181579.240000\n",
       "Maspeth                              10.0      52.330000\n",
       "Mott Haven-Port Morris               10.0    1026.103333\n",
       "Steinway                             20.0    2056.800000\n",
       "Whitestone                           10.0    4026.730000"
      ]
     },
     "execution_count": 16,
     "metadata": {},
     "output_type": "execute_result"
    }
   ],
   "source": [
    "Avg=df1.merge(df2, how = \"right\" ,on ='NTA')\n",
    "Avg"
   ]
  },
  {
   "cell_type": "code",
   "execution_count": 17,
   "metadata": {},
   "outputs": [],
   "source": [
    "Avg.to_csv('Average_Job_and_saving.csv', index=True)"
   ]
  },
  {
   "cell_type": "markdown",
   "metadata": {},
   "source": [
    "# Day 5"
   ]
  },
  {
   "cell_type": "markdown",
   "metadata": {},
   "source": [
    "# Question:  scatter plot of jobs created versus average savings. Use both a standard and a logarithmic scale for the average savings."
   ]
  },
  {
   "cell_type": "code",
   "execution_count": 18,
   "metadata": {},
   "outputs": [],
   "source": [
    "dff = pd.read_csv(\"Average_Job_and_saving.csv\")"
   ]
  },
  {
   "cell_type": "code",
   "execution_count": 19,
   "metadata": {},
   "outputs": [],
   "source": [
    "x=dff['Total_Job_created']\n",
    "y=dff['Avg_saving']"
   ]
  },
  {
   "cell_type": "code",
   "execution_count": 20,
   "metadata": {},
   "outputs": [
    {
     "data": {
      "image/png": "[encoded data removed]",
      "text/plain": [
       "<Figure size 432x288 with 1 Axes>"
      ]
     },
     "metadata": {
      "needs_background": "light"
     },
     "output_type": "display_data"
    }
   ],
   "source": [
    "plt.scatter(x, y, alpha=1)\n",
    "plt.yscale('log')\n",
    "plt.xlabel('Total Job Created')\n",
    "plt.ylabel('Average Savings')\n",
    "plt.show()"
   ]
  },
  {
   "cell_type": "code",
   "execution_count": 21,
   "metadata": {},
   "outputs": [],
   "source": [
    "#histogram of the log of the average total savings."
   ]
  },
  {
   "cell_type": "code",
   "execution_count": 22,
   "metadata": {},
   "outputs": [
    {
     "data": {
      "image/png": "[encoded data removed]",
      "text/plain": [
       "<Figure size 432x288 with 1 Axes>"
      ]
     },
     "metadata": {
      "needs_background": "light"
     },
     "output_type": "display_data"
    }
   ],
   "source": [
    "fig = plt.figure()\n",
    " \n",
    "plt.hist(y)\n",
    "plt.xscale('log')\n",
    "plt.xlabel('Average Total Savings')\n",
    "plt.ylabel('Fequency')\n",
    "plt.show() "
   ]
  },
  {
   "cell_type": "code",
   "execution_count": 23,
   "metadata": {},
   "outputs": [],
   "source": [
    "#Import comcast data into Python environment.\n",
    "df = pd.read_csv(\"Value_of_Energy_Cost_Savings_Program_Savings_for_Businesses_-_FY2020.csv\")"
   ]
  },
  {
   "cell_type": "markdown",
   "metadata": {},
   "source": [
    "# Question: line plot of the total jobs created for each month."
   ]
  },
  {
   "cell_type": "code",
   "execution_count": 24,
   "metadata": {},
   "outputs": [
    {
     "data": {
      "text/html": [
       "<div>\n",
       "<style scoped>\n",
       "    .dataframe tbody tr th:only-of-type {\n",
       "        vertical-align: middle;\n",
       "    }\n",
       "\n",
       "    .dataframe tbody tr th {\n",
       "        vertical-align: top;\n",
       "    }\n",
       "\n",
       "    .dataframe thead th {\n",
       "        text-align: right;\n",
       "    }\n",
       "</style>\n",
       "<table border=\"1\" class=\"dataframe\">\n",
       "  <thead>\n",
       "    <tr style=\"text-align: right;\">\n",
       "      <th></th>\n",
       "      <th>Effective Date</th>\n",
       "      <th>Job created</th>\n",
       "    </tr>\n",
       "  </thead>\n",
       "  <tbody>\n",
       "    <tr>\n",
       "      <th>29</th>\n",
       "      <td>03/05/2004</td>\n",
       "      <td>10.0</td>\n",
       "    </tr>\n",
       "    <tr>\n",
       "      <th>37</th>\n",
       "      <td>06/28/2007</td>\n",
       "      <td>60.0</td>\n",
       "    </tr>\n",
       "    <tr>\n",
       "      <th>95</th>\n",
       "      <td>11/06/2007</td>\n",
       "      <td>5.0</td>\n",
       "    </tr>\n",
       "    <tr>\n",
       "      <th>120</th>\n",
       "      <td>02/03/2005</td>\n",
       "      <td>12.0</td>\n",
       "    </tr>\n",
       "    <tr>\n",
       "      <th>137</th>\n",
       "      <td>03/01/2006</td>\n",
       "      <td>10.0</td>\n",
       "    </tr>\n",
       "    <tr>\n",
       "      <th>325</th>\n",
       "      <td>05/02/2007</td>\n",
       "      <td>2.0</td>\n",
       "    </tr>\n",
       "    <tr>\n",
       "      <th>353</th>\n",
       "      <td>04/10/2007</td>\n",
       "      <td>2.0</td>\n",
       "    </tr>\n",
       "    <tr>\n",
       "      <th>414</th>\n",
       "      <td>02/05/1993</td>\n",
       "      <td>15.0</td>\n",
       "    </tr>\n",
       "    <tr>\n",
       "      <th>432</th>\n",
       "      <td>06/08/2007</td>\n",
       "      <td>3.0</td>\n",
       "    </tr>\n",
       "    <tr>\n",
       "      <th>433</th>\n",
       "      <td>07/02/2007</td>\n",
       "      <td>20.0</td>\n",
       "    </tr>\n",
       "    <tr>\n",
       "      <th>445</th>\n",
       "      <td>12/09/2008</td>\n",
       "      <td>10.0</td>\n",
       "    </tr>\n",
       "  </tbody>\n",
       "</table>\n",
       "</div>"
      ],
      "text/plain": [
       "    Effective Date  Job created\n",
       "29      03/05/2004         10.0\n",
       "37      06/28/2007         60.0\n",
       "95      11/06/2007          5.0\n",
       "120     02/03/2005         12.0\n",
       "137     03/01/2006         10.0\n",
       "325     05/02/2007          2.0\n",
       "353     04/10/2007          2.0\n",
       "414     02/05/1993         15.0\n",
       "432     06/08/2007          3.0\n",
       "433     07/02/2007         20.0\n",
       "445     12/09/2008         10.0"
      ]
     },
     "execution_count": 24,
     "metadata": {},
     "output_type": "execute_result"
    }
   ],
   "source": [
    "df_date = df[['Effective Date', 'Job created']].dropna()\n",
    "df_date "
   ]
  },
  {
   "cell_type": "code",
   "execution_count": 25,
   "metadata": {},
   "outputs": [],
   "source": [
    "df_date[\"Effective Date\"] = pd.to_datetime(df_date[\"Effective Date\"])"
   ]
  },
  {
   "cell_type": "code",
   "execution_count": 26,
   "metadata": {},
   "outputs": [],
   "source": [
    "df_date = df_date.set_index(df_date[\"Effective Date\"])"
   ]
  },
  {
   "cell_type": "code",
   "execution_count": 27,
   "metadata": {},
   "outputs": [],
   "source": [
    "# set month dataframe for plotting complaint volume against month\n",
    "Total_job=df_date[\"Effective Date\"].value_counts().sort_index()\n"
   ]
  },
  {
   "cell_type": "code",
   "execution_count": 28,
   "metadata": {},
   "outputs": [
    {
     "data": {
      "text/plain": [
       "Effective Date\n",
       "1993-02-28    1\n",
       "1993-03-31    0\n",
       "1993-04-30    0\n",
       "1993-05-31    0\n",
       "1993-06-30    0\n",
       "             ..\n",
       "2008-08-31    0\n",
       "2008-09-30    0\n",
       "2008-10-31    0\n",
       "2008-11-30    0\n",
       "2008-12-31    1\n",
       "Freq: M, Length: 191, dtype: int64"
      ]
     },
     "execution_count": 28,
     "metadata": {},
     "output_type": "execute_result"
    }
   ],
   "source": [
    "Monthly_Total_job = df_date.groupby(pd.Grouper(freq=\"M\")).size()\n",
    "Monthly_Total_job"
   ]
  },
  {
   "cell_type": "code",
   "execution_count": 29,
   "metadata": {},
   "outputs": [
    {
     "data": {
      "text/plain": [
       "Text(0, 0.5, 'Total Job Created')"
      ]
     },
     "execution_count": 29,
     "metadata": {},
     "output_type": "execute_result"
    },
    {
     "data": {
      "image/png": "[encoded data removed]",
      "text/plain": [
       "<Figure size 432x288 with 1 Axes>"
      ]
     },
     "metadata": {
      "needs_background": "light"
     },
     "output_type": "display_data"
    }
   ],
   "source": [
    "Monthly_Total_job.plot()\n",
    "plt.xlabel('Monthly basis dates')\n",
    "plt.ylabel('Total Job Created')"
   ]
  },
  {
   "cell_type": "code",
   "execution_count": null,
   "metadata": {},
   "outputs": [],
   "source": []
  },
  {
   "cell_type": "code",
   "execution_count": null,
   "metadata": {},
   "outputs": [],
   "source": []
  },
  {
   "cell_type": "code",
   "execution_count": null,
   "metadata": {},
   "outputs": [],
   "source": []
  }
 ],
 "metadata": {
  "kernelspec": {
   "display_name": "Python 3",
   "language": "python",
   "name": "python3"
  },
  "language_info": {
   "codemirror_mode": {
    "name": "ipython",
    "version": 3
   },
   "file_extension": ".py",
   "mimetype": "text/x-python",
   "name": "python",
   "nbconvert_exporter": "python",
   "pygments_lexer": "ipython3",
   "version": "3.8.5"
  }
 },
 "nbformat": 4,
 "nbformat_minor": 4
}
